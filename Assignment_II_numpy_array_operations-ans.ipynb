{
  "cells": [
    {
      "cell_type": "markdown",
      "metadata": {
        "id": "x29XguhmGR9W"
      },
      "source": [
        "> ### **Assignment 2 - Numpy Array Operations** \n",
        ">\n",
        "\n",
        "\n",
        "Write a short introduction about Numpy and list the chosen functions. \n",
        "\n",
        "function1 = np.append \n",
        "\n",
        "function2 = np.average\n",
        "\n",
        "function3 = np.arange\n",
        "\n",
        "function4 = np.squeeze\n",
        "\n",
        "function5 = np.vstack\n",
        "\n",
        "\n"
      ]
    },
    {
      "cell_type": "code",
      "execution_count": 1,
      "metadata": {
        "id": "GYSxXBl6GR9c"
      },
      "outputs": [],
      "source": [
        "import numpy as np"
      ]
    },
    {
      "cell_type": "markdown",
      "metadata": {
        "id": "034D7-ScGR9e"
      },
      "source": [
        "## Function 1 - np.append\n",
        "np.append function add elements to the end of an array provided that the dimensions of the elements should be same."
      ]
    },
    {
      "cell_type": "code",
      "execution_count": 2,
      "metadata": {
        "colab": {
          "base_uri": "https://localhost:8080/"
        },
        "id": "6nQ1kfwAGR9e",
        "outputId": "56e9aed0-46b7-4488-873f-1114c295b292"
      },
      "outputs": [
        {
          "data": {
            "text/plain": [
              "array([ 1,  2,  1, 25, 26, 24, 23, 15])"
            ]
          },
          "execution_count": 2,
          "metadata": {},
          "output_type": "execute_result"
        }
      ],
      "source": [
        "# Example 1 - working (change this)\n",
        "arr1 = [1, 2, 1, 25, 26]\n",
        "np.append(arr1, [24, 23, 15])\n"
      ]
    },
    {
      "cell_type": "markdown",
      "metadata": {
        "id": "A-NpwrlcGR9f"
      },
      "source": [
        "We can put lists as an element inside the array, then append it with the expected lists or any element regardless of their size.\n",
        "\n"
      ]
    },
    {
      "cell_type": "code",
      "execution_count": 4,
      "metadata": {
        "id": "exvS7CpeGR9f"
      },
      "outputs": [
        {
          "data": {
            "text/plain": [
              "array([ 2,  4,  5,  6,  7,  8, 10, 12, 13, 14])"
            ]
          },
          "execution_count": 4,
          "metadata": {},
          "output_type": "execute_result"
        }
      ],
      "source": [
        "# Example 2 - working\n",
        "arr2 = [[2, 4, 5], [6, 7, 8]]\n",
        "np.append(arr2, [10, 12])\n",
        "np.append(arr2, [10, 12, 13, 14])"
      ]
    },
    {
      "cell_type": "markdown",
      "metadata": {
        "id": "IPHUMw0KGR9f"
      },
      "source": [
        "When axis is specified, arrays must have the same shape."
      ]
    },
    {
      "cell_type": "code",
      "execution_count": 3,
      "metadata": {
        "colab": {
          "base_uri": "https://localhost:8080/",
          "height": 391
        },
        "id": "HH6f3hRzGR9g",
        "outputId": "3ab7627f-0ba3-4bd1-9b23-e49978d2e912"
      },
      "outputs": [
        {
          "ename": "ValueError",
          "evalue": "all the input arrays must have same number of dimensions, but the array at index 0 has 2 dimension(s) and the array at index 1 has 1 dimension(s)",
          "output_type": "error",
          "traceback": [
            "\u001b[1;31m---------------------------------------------------------------------------\u001b[0m",
            "\u001b[1;31mValueError\u001b[0m                                Traceback (most recent call last)",
            "\u001b[1;32mc:\\Users\\kasth\\OneDrive\\Desktop\\Python\\Assignments\\Unit (2)\\Assignment_II_numpy_array_operations.ipynb Cell 8'\u001b[0m in \u001b[0;36m<cell line: 3>\u001b[1;34m()\u001b[0m\n\u001b[0;32m      <a href='vscode-notebook-cell:/c%3A/Users/kasth/OneDrive/Desktop/Python/Assignments/Unit%20%282%29/Assignment_II_numpy_array_operations.ipynb#ch0000007?line=0'>1</a>\u001b[0m \u001b[39m# Example 3 - breaking (to illustrate when it breaks)\u001b[39;00m\n\u001b[0;32m      <a href='vscode-notebook-cell:/c%3A/Users/kasth/OneDrive/Desktop/Python/Assignments/Unit%20%282%29/Assignment_II_numpy_array_operations.ipynb#ch0000007?line=1'>2</a>\u001b[0m arr3 \u001b[39m=\u001b[39m [[\u001b[39m2\u001b[39m, \u001b[39m4\u001b[39m, \u001b[39m5\u001b[39m], [\u001b[39m6\u001b[39m, \u001b[39m7\u001b[39m, \u001b[39m8\u001b[39m]]\n\u001b[1;32m----> <a href='vscode-notebook-cell:/c%3A/Users/kasth/OneDrive/Desktop/Python/Assignments/Unit%20%282%29/Assignment_II_numpy_array_operations.ipynb#ch0000007?line=2'>3</a>\u001b[0m np\u001b[39m.\u001b[39;49mappend(arr3, [\u001b[39m14\u001b[39;49m, \u001b[39m15\u001b[39;49m, \u001b[39m16\u001b[39;49m], axis \u001b[39m=\u001b[39;49m \u001b[39m0\u001b[39;49m)\n",
            "File \u001b[1;32m<__array_function__ internals>:180\u001b[0m, in \u001b[0;36mappend\u001b[1;34m(*args, **kwargs)\u001b[0m\n",
            "File \u001b[1;32m~\\AppData\\Local\\Programs\\Python\\Python310\\lib\\site-packages\\numpy\\lib\\function_base.py:5392\u001b[0m, in \u001b[0;36mappend\u001b[1;34m(arr, values, axis)\u001b[0m\n\u001b[0;32m   <a href='file:///c%3A/Users/kasth/AppData/Local/Programs/Python/Python310/lib/site-packages/numpy/lib/function_base.py?line=5389'>5390</a>\u001b[0m     values \u001b[39m=\u001b[39m ravel(values)\n\u001b[0;32m   <a href='file:///c%3A/Users/kasth/AppData/Local/Programs/Python/Python310/lib/site-packages/numpy/lib/function_base.py?line=5390'>5391</a>\u001b[0m     axis \u001b[39m=\u001b[39m arr\u001b[39m.\u001b[39mndim\u001b[39m-\u001b[39m\u001b[39m1\u001b[39m\n\u001b[1;32m-> <a href='file:///c%3A/Users/kasth/AppData/Local/Programs/Python/Python310/lib/site-packages/numpy/lib/function_base.py?line=5391'>5392</a>\u001b[0m \u001b[39mreturn\u001b[39;00m concatenate((arr, values), axis\u001b[39m=\u001b[39;49maxis)\n",
            "File \u001b[1;32m<__array_function__ internals>:180\u001b[0m, in \u001b[0;36mconcatenate\u001b[1;34m(*args, **kwargs)\u001b[0m\n",
            "\u001b[1;31mValueError\u001b[0m: all the input arrays must have same number of dimensions, but the array at index 0 has 2 dimension(s) and the array at index 1 has 1 dimension(s)"
          ]
        }
      ],
      "source": [
        "# Example 3 - breaking (to illustrate when it breaks)\n",
        "arr3 = [[2, 4, 5], [6, 7, 8]]\n",
        "np.append(arr3, [14, 15, 16], axis = 0)"
      ]
    },
    {
      "cell_type": "markdown",
      "metadata": {
        "id": "SqYu4BnzGR9g"
      },
      "source": [
        "ValueError: all the input arrays must have same number of dimensions, but the array at index 0 has 2 dimension(s) and the array at index 1 has 1 dimension(s)"
      ]
    },
    {
      "cell_type": "markdown",
      "metadata": {
        "id": "MHiRxmcWGR9g"
      },
      "source": [
        "Some closing comments about when to use this function."
      ]
    },
    {
      "cell_type": "code",
      "execution_count": 4,
      "metadata": {
        "colab": {
          "base_uri": "https://localhost:8080/"
        },
        "id": "sU-Nzxl1GR9g",
        "outputId": "1c3ef55e-f3ff-4b4b-a147-f88630f0f538"
      },
      "outputs": [
        {
          "data": {
            "text/plain": [
              "array([[ 2,  4,  5],\n",
              "       [ 6,  7,  8],\n",
              "       [14, 15, 16],\n",
              "       [12, 15, 16]])"
            ]
          },
          "execution_count": 4,
          "metadata": {},
          "output_type": "execute_result"
        }
      ],
      "source": [
        "# Fix\n",
        "arr3 = [[2, 4, 5], [6, 7, 8]]\n",
        "np.append(arr3, [[14, 15, 16], [12, 15, 16]], axis = 0)"
      ]
    },
    {
      "cell_type": "markdown",
      "metadata": {
        "id": "b_J9H7dLSHL_"
      },
      "source": [
        "In arr3, index 0 has 2 dimensions, while the element to be appended has 1 dimension, thus breaks down. To fix this, the element to be appended should have 2 dimensions as well."
      ]
    },
    {
      "cell_type": "markdown",
      "metadata": {
        "id": "UHBZ3gjCGR9h"
      },
      "source": [
        "## Function 2 - np.average\n",
        "\n",
        "Add some explanations"
      ]
    },
    {
      "cell_type": "code",
      "execution_count": 5,
      "metadata": {
        "id": "UQlGO4oQGR9h"
      },
      "outputs": [
        {
          "data": {
            "text/plain": [
              "6.222222222222222"
            ]
          },
          "execution_count": 5,
          "metadata": {},
          "output_type": "execute_result"
        }
      ],
      "source": [
        "# Example 1 - working\n",
        "arr33 = [[2, 4, 5], [6, 7, 8], [7, 8, 9]]\n",
        "np.average(arr33)"
      ]
    },
    {
      "cell_type": "markdown",
      "metadata": {
        "id": "Ucbc8pbZGR9h"
      },
      "source": [
        "Explanation about example"
      ]
    },
    {
      "cell_type": "code",
      "execution_count": 6,
      "metadata": {
        "id": "bTedO6EWGR9h"
      },
      "outputs": [
        {
          "data": {
            "text/plain": [
              "11.0"
            ]
          },
          "execution_count": 6,
          "metadata": {},
          "output_type": "execute_result"
        }
      ],
      "source": [
        "#Example 2 -working\n",
        "arr11 = [1, 2, 1, 25, 26]\n",
        "np.average(arr11)"
      ]
    },
    {
      "cell_type": "markdown",
      "metadata": {
        "id": "euO2FPnpGR9i"
      },
      "source": [
        "Explanation about example"
      ]
    },
    {
      "cell_type": "code",
      "execution_count": 7,
      "metadata": {
        "id": "sMjeLEX2GR9i"
      },
      "outputs": [
        {
          "ename": "TypeError",
          "evalue": "_average_dispatcher() got multiple values for argument 'axis'",
          "output_type": "error",
          "traceback": [
            "\u001b[1;31m---------------------------------------------------------------------------\u001b[0m",
            "\u001b[1;31mTypeError\u001b[0m                                 Traceback (most recent call last)",
            "\u001b[1;32mc:\\Users\\kasth\\OneDrive\\Desktop\\Python\\Assignments\\Unit (2)\\Assignment_II_numpy_array_operations.ipynb Cell 18'\u001b[0m in \u001b[0;36m<cell line: 3>\u001b[1;34m()\u001b[0m\n\u001b[0;32m      <a href='vscode-notebook-cell:/c%3A/Users/kasth/OneDrive/Desktop/Python/Assignments/Unit%20%282%29/Assignment_II_numpy_array_operations.ipynb#ch0000017?line=0'>1</a>\u001b[0m \u001b[39m# Example 3 - breaking (to illustrate when it breaks)\u001b[39;00m\n\u001b[0;32m      <a href='vscode-notebook-cell:/c%3A/Users/kasth/OneDrive/Desktop/Python/Assignments/Unit%20%282%29/Assignment_II_numpy_array_operations.ipynb#ch0000017?line=1'>2</a>\u001b[0m a \u001b[39m=\u001b[39m [\u001b[39m-\u001b[39m\u001b[39m1\u001b[39m, \u001b[39m1\u001b[39m, \u001b[39m2\u001b[39m, \u001b[39m2\u001b[39m]\n\u001b[1;32m----> <a href='vscode-notebook-cell:/c%3A/Users/kasth/OneDrive/Desktop/Python/Assignments/Unit%20%282%29/Assignment_II_numpy_array_operations.ipynb#ch0000017?line=2'>3</a>\u001b[0m np\u001b[39m.\u001b[39;49maverage(a,[\u001b[39m1\u001b[39;49m,\u001b[39m2\u001b[39;49m,\u001b[39m3\u001b[39;49m,\u001b[39m4\u001b[39;49m], axis\u001b[39m=\u001b[39;49m\u001b[39m0\u001b[39;49m)\n",
            "File \u001b[1;32m<__array_function__ internals>:179\u001b[0m, in \u001b[0;36maverage\u001b[1;34m(*args, **kwargs)\u001b[0m\n",
            "\u001b[1;31mTypeError\u001b[0m: _average_dispatcher() got multiple values for argument 'axis'"
          ]
        }
      ],
      "source": [
        "# Example 3 - breaking (to illustrate when it breaks)\n",
        "a = [-1, 1, 2, 2]\n",
        "np.average(a,[1,2,3,4], axis=0)"
      ]
    },
    {
      "cell_type": "markdown",
      "metadata": {
        "id": "jDfhDOpzGR9i"
      },
      "source": [
        "Explanation about example (why it breaks and how to fix it)"
      ]
    },
    {
      "cell_type": "code",
      "execution_count": 16,
      "metadata": {},
      "outputs": [
        {
          "data": {
            "text/plain": [
              "1.0"
            ]
          },
          "execution_count": 16,
          "metadata": {},
          "output_type": "execute_result"
        }
      ],
      "source": [
        "a = [-1, 1, 2, 2]\n",
        "np.average(a)"
      ]
    },
    {
      "cell_type": "markdown",
      "metadata": {
        "id": "ZhMnyD5SGR9i"
      },
      "source": [
        "Some closing comments about when to use this function."
      ]
    },
    {
      "cell_type": "markdown",
      "metadata": {
        "id": "TfRcZC6aGR9i"
      },
      "source": [
        "## Function 3 - np.arange\n",
        "\n",
        "Add some explanations"
      ]
    },
    {
      "cell_type": "code",
      "execution_count": 11,
      "metadata": {
        "id": "JtrKm_6IGR9j"
      },
      "outputs": [
        {
          "data": {
            "text/plain": [
              "array([3, 4, 5, 6])"
            ]
          },
          "execution_count": 11,
          "metadata": {},
          "output_type": "execute_result"
        }
      ],
      "source": [
        "# Example 1 - working\n",
        "np.arange(3,7)"
      ]
    },
    {
      "cell_type": "markdown",
      "metadata": {
        "id": "D8r2wqr5GR9j"
      },
      "source": [
        "Explanation about example"
      ]
    },
    {
      "cell_type": "code",
      "execution_count": 17,
      "metadata": {
        "id": "pdZlVysOGR9j"
      },
      "outputs": [
        {
          "data": {
            "text/plain": [
              "array([3, 5])"
            ]
          },
          "execution_count": 17,
          "metadata": {},
          "output_type": "execute_result"
        }
      ],
      "source": [
        "# Example 2 - working\n",
        "np.arange(3,7,2)"
      ]
    },
    {
      "cell_type": "markdown",
      "metadata": {
        "id": "4q0E5GWMGR9j"
      },
      "source": [
        "Explanation about example"
      ]
    },
    {
      "cell_type": "code",
      "execution_count": 19,
      "metadata": {
        "id": "yMHbGoQbGR9j"
      },
      "outputs": [
        {
          "ename": "TypeError",
          "evalue": "unsupported operand type(s) for /: 'int' and 'type'",
          "output_type": "error",
          "traceback": [
            "\u001b[1;31m---------------------------------------------------------------------------\u001b[0m",
            "\u001b[1;31mTypeError\u001b[0m                                 Traceback (most recent call last)",
            "\u001b[1;32mc:\\Users\\kasth\\OneDrive\\Desktop\\Python\\Assignments\\Unit (2)\\Assignment_II_numpy_array_operations.ipynb Cell 27'\u001b[0m in \u001b[0;36m<cell line: 2>\u001b[1;34m()\u001b[0m\n\u001b[0;32m      <a href='vscode-notebook-cell:/c%3A/Users/kasth/OneDrive/Desktop/Python/Assignments/Unit%20%282%29/Assignment_II_numpy_array_operations.ipynb#ch0000026?line=0'>1</a>\u001b[0m \u001b[39m# Example 3 - breaking (to illustrate when it breaks)\u001b[39;00m\n\u001b[1;32m----> <a href='vscode-notebook-cell:/c%3A/Users/kasth/OneDrive/Desktop/Python/Assignments/Unit%20%282%29/Assignment_II_numpy_array_operations.ipynb#ch0000026?line=1'>2</a>\u001b[0m np\u001b[39m.\u001b[39;49marange(\u001b[39m3\u001b[39;49m,\u001b[39m7\u001b[39;49m,\u001b[39mint\u001b[39;49m)\n",
            "\u001b[1;31mTypeError\u001b[0m: unsupported operand type(s) for /: 'int' and 'type'"
          ]
        }
      ],
      "source": [
        "# Example 3 - breaking (to illustrate when it breaks)\n",
        "np.arange(3,7,int)"
      ]
    },
    {
      "cell_type": "markdown",
      "metadata": {
        "id": "pNNg5euiGR9j"
      },
      "source": [
        "Explanation about example (why it breaks and how to fix it)"
      ]
    },
    {
      "cell_type": "code",
      "execution_count": null,
      "metadata": {},
      "outputs": [],
      "source": [
        "np.arange(3,7,2,int)"
      ]
    },
    {
      "cell_type": "markdown",
      "metadata": {
        "id": "5v6apGVJGR9j"
      },
      "source": [
        "Some closing comments about when to use this function."
      ]
    },
    {
      "cell_type": "markdown",
      "metadata": {
        "id": "QXgjSaKFGR9k"
      },
      "source": [
        "## Function 4 - np.squeeze\n",
        "\n",
        "Add some explanations"
      ]
    },
    {
      "cell_type": "code",
      "execution_count": 41,
      "metadata": {
        "id": "9r7duC1LGR9k"
      },
      "outputs": [
        {
          "data": {
            "text/plain": [
              "(1, 3, 1)"
            ]
          },
          "execution_count": 41,
          "metadata": {},
          "output_type": "execute_result"
        }
      ],
      "source": [
        "# Example 1 - working\n",
        "x = np.array([[[0], [1], [2]]])\n",
        "x.shape\n"
      ]
    },
    {
      "cell_type": "code",
      "execution_count": 42,
      "metadata": {},
      "outputs": [
        {
          "data": {
            "text/plain": [
              "(3, 1)"
            ]
          },
          "execution_count": 42,
          "metadata": {},
          "output_type": "execute_result"
        }
      ],
      "source": [
        "np.squeeze(x,axis=0).shape"
      ]
    },
    {
      "cell_type": "markdown",
      "metadata": {
        "id": "CNWUZIxRGR9k"
      },
      "source": [
        "Explanation about example"
      ]
    },
    {
      "cell_type": "code",
      "execution_count": 51,
      "metadata": {
        "id": "_dBBNHOBGR9k"
      },
      "outputs": [
        {
          "data": {
            "text/plain": [
              "array([[[0],\n",
              "        [1],\n",
              "        [2]]])"
            ]
          },
          "execution_count": 51,
          "metadata": {},
          "output_type": "execute_result"
        }
      ],
      "source": [
        "# Example 2 - working\n",
        "x1 = np.array([[[0], [1], [2]]])\n",
        "x1\n"
      ]
    },
    {
      "cell_type": "code",
      "execution_count": 52,
      "metadata": {},
      "outputs": [
        {
          "ename": "ValueError",
          "evalue": "cannot select an axis to squeeze out which has size not equal to one",
          "output_type": "error",
          "traceback": [
            "\u001b[1;31m---------------------------------------------------------------------------\u001b[0m",
            "\u001b[1;31mValueError\u001b[0m                                Traceback (most recent call last)",
            "\u001b[1;32mc:\\Users\\kasth\\OneDrive\\Desktop\\Python\\Assignments\\Unit (2)\\Assignment_II_numpy_array_operations.ipynb Cell 36'\u001b[0m in \u001b[0;36m<cell line: 1>\u001b[1;34m()\u001b[0m\n\u001b[1;32m----> <a href='vscode-notebook-cell:/c%3A/Users/kasth/OneDrive/Desktop/Python/Assignments/Unit%20%282%29/Assignment_II_numpy_array_operations.ipynb#ch0000035?line=0'>1</a>\u001b[0m np\u001b[39m.\u001b[39;49msqueeze(x1,axis\u001b[39m=\u001b[39;49m\u001b[39m1\u001b[39;49m)\u001b[39m.\u001b[39mshape\n",
            "File \u001b[1;32m<__array_function__ internals>:180\u001b[0m, in \u001b[0;36msqueeze\u001b[1;34m(*args, **kwargs)\u001b[0m\n",
            "File \u001b[1;32m~\\AppData\\Local\\Programs\\Python\\Python310\\lib\\site-packages\\numpy\\core\\fromnumeric.py:1545\u001b[0m, in \u001b[0;36msqueeze\u001b[1;34m(a, axis)\u001b[0m\n\u001b[0;32m   <a href='file:///c%3A/Users/kasth/AppData/Local/Programs/Python/Python310/lib/site-packages/numpy/core/fromnumeric.py?line=1542'>1543</a>\u001b[0m     \u001b[39mreturn\u001b[39;00m squeeze()\n\u001b[0;32m   <a href='file:///c%3A/Users/kasth/AppData/Local/Programs/Python/Python310/lib/site-packages/numpy/core/fromnumeric.py?line=1543'>1544</a>\u001b[0m \u001b[39melse\u001b[39;00m:\n\u001b[1;32m-> <a href='file:///c%3A/Users/kasth/AppData/Local/Programs/Python/Python310/lib/site-packages/numpy/core/fromnumeric.py?line=1544'>1545</a>\u001b[0m     \u001b[39mreturn\u001b[39;00m squeeze(axis\u001b[39m=\u001b[39;49maxis)\n",
            "\u001b[1;31mValueError\u001b[0m: cannot select an axis to squeeze out which has size not equal to one"
          ]
        }
      ],
      "source": [
        "np.squeeze(x1,axis=1).shape"
      ]
    },
    {
      "cell_type": "markdown",
      "metadata": {
        "id": "W3piuExMGR9k"
      },
      "source": [
        "Explanation about example"
      ]
    },
    {
      "cell_type": "code",
      "execution_count": 29,
      "metadata": {
        "id": "A4gQDXWNGR9k"
      },
      "outputs": [
        {
          "data": {
            "text/plain": [
              "(1, 3, 1)"
            ]
          },
          "execution_count": 29,
          "metadata": {},
          "output_type": "execute_result"
        }
      ],
      "source": [
        "# Example 3 - breaking (to illustrate when it breaks)\n",
        "x11 = np.array([[[0], [1], [2]]])\n",
        "x11.shape"
      ]
    },
    {
      "cell_type": "code",
      "execution_count": 44,
      "metadata": {},
      "outputs": [
        {
          "ename": "NameError",
          "evalue": "name 'x11' is not defined",
          "output_type": "error",
          "traceback": [
            "\u001b[1;31m---------------------------------------------------------------------------\u001b[0m",
            "\u001b[1;31mNameError\u001b[0m                                 Traceback (most recent call last)",
            "\u001b[1;32mc:\\Users\\kasth\\OneDrive\\Desktop\\Python\\Assignments\\Unit (2)\\Assignment_II_numpy_array_operations.ipynb Cell 39'\u001b[0m in \u001b[0;36m<cell line: 1>\u001b[1;34m()\u001b[0m\n\u001b[1;32m----> <a href='vscode-notebook-cell:/c%3A/Users/kasth/OneDrive/Desktop/Python/Assignments/Unit%20%282%29/Assignment_II_numpy_array_operations.ipynb#ch0000038?line=0'>1</a>\u001b[0m np\u001b[39m.\u001b[39msqueeze(x11,axis\u001b[39m=\u001b[39m\u001b[39m1\u001b[39m)\u001b[39m.\u001b[39mshape\n",
            "\u001b[1;31mNameError\u001b[0m: name 'x11' is not defined"
          ]
        }
      ],
      "source": [
        "np.squeeze(x11,axis=1).shape"
      ]
    },
    {
      "cell_type": "markdown",
      "metadata": {
        "id": "dPPU0YZ5GR9l"
      },
      "source": [
        "Explanation about example (why it breaks and how to fix it)"
      ]
    },
    {
      "cell_type": "markdown",
      "metadata": {
        "id": "CsOKLwbKGR9l"
      },
      "source": [
        "Some closing comments about when to use this function."
      ]
    },
    {
      "cell_type": "markdown",
      "metadata": {
        "id": "4Eevnyo0GR9l"
      },
      "source": [
        "## Function 5 - np.vstack\n",
        "\n",
        "Add some explanations"
      ]
    },
    {
      "cell_type": "code",
      "execution_count": 54,
      "metadata": {
        "id": "hWGZ_CjpGR9l"
      },
      "outputs": [
        {
          "data": {
            "text/plain": [
              "array([[3, 5, 7],\n",
              "       [5, 7, 9]])"
            ]
          },
          "execution_count": 54,
          "metadata": {},
          "output_type": "execute_result"
        }
      ],
      "source": [
        "# Example 1 - working\n",
        "x = np.array([3, 5, 7])\n",
        "y = np.array([5, 7, 9])\n",
        "np.vstack((x,y))"
      ]
    },
    {
      "cell_type": "markdown",
      "metadata": {
        "id": "Gtttw9fWGR9l"
      },
      "source": [
        "Explanation about example"
      ]
    },
    {
      "cell_type": "code",
      "execution_count": 57,
      "metadata": {
        "id": "UWGFeBUQGR9l"
      },
      "outputs": [
        {
          "data": {
            "text/plain": [
              "array([[3],\n",
              "       [5],\n",
              "       [7],\n",
              "       [5],\n",
              "       [7],\n",
              "       [9]])"
            ]
          },
          "execution_count": 57,
          "metadata": {},
          "output_type": "execute_result"
        }
      ],
      "source": [
        "# Example 2 - working\n",
        "x = np.array([[3], [5], [7]])\n",
        "y = np.array([[5], [7], [9]])\n",
        "np.vstack((x,y))"
      ]
    },
    {
      "cell_type": "markdown",
      "metadata": {
        "id": "8fIRSm0KGR9m"
      },
      "source": [
        "Explanation about example"
      ]
    },
    {
      "cell_type": "code",
      "execution_count": 59,
      "metadata": {
        "id": "BuVqcGg1GR9m"
      },
      "outputs": [
        {
          "ename": "TypeError",
          "evalue": "array() takes from 1 to 2 positional arguments but 3 were given",
          "output_type": "error",
          "traceback": [
            "\u001b[1;31m---------------------------------------------------------------------------\u001b[0m",
            "\u001b[1;31mTypeError\u001b[0m                                 Traceback (most recent call last)",
            "\u001b[1;32mc:\\Users\\kasth\\OneDrive\\Desktop\\Python\\Assignments\\Unit (2)\\Assignment_II_numpy_array_operations.ipynb Cell 47'\u001b[0m in \u001b[0;36m<cell line: 3>\u001b[1;34m()\u001b[0m\n\u001b[0;32m      <a href='vscode-notebook-cell:/c%3A/Users/kasth/OneDrive/Desktop/Python/Assignments/Unit%20%282%29/Assignment_II_numpy_array_operations.ipynb#ch0000047?line=0'>1</a>\u001b[0m \u001b[39m# Example 3 - breaking (to illustrate when it breaks)\u001b[39;00m\n\u001b[0;32m      <a href='vscode-notebook-cell:/c%3A/Users/kasth/OneDrive/Desktop/Python/Assignments/Unit%20%282%29/Assignment_II_numpy_array_operations.ipynb#ch0000047?line=1'>2</a>\u001b[0m x1 \u001b[39m=\u001b[39m np\u001b[39m.\u001b[39marray([[\u001b[39m3\u001b[39m], [\u001b[39m5\u001b[39m], [\u001b[39m7\u001b[39m]])\n\u001b[1;32m----> <a href='vscode-notebook-cell:/c%3A/Users/kasth/OneDrive/Desktop/Python/Assignments/Unit%20%282%29/Assignment_II_numpy_array_operations.ipynb#ch0000047?line=2'>3</a>\u001b[0m y1 \u001b[39m=\u001b[39m np\u001b[39m.\u001b[39;49marray([\u001b[39m5\u001b[39;49m], [\u001b[39m7\u001b[39;49m], [\u001b[39m9\u001b[39;49m])\n\u001b[0;32m      <a href='vscode-notebook-cell:/c%3A/Users/kasth/OneDrive/Desktop/Python/Assignments/Unit%20%282%29/Assignment_II_numpy_array_operations.ipynb#ch0000047?line=3'>4</a>\u001b[0m np\u001b[39m.\u001b[39mvstack((x1,y1))\n",
            "\u001b[1;31mTypeError\u001b[0m: array() takes from 1 to 2 positional arguments but 3 were given"
          ]
        }
      ],
      "source": [
        "# Example 3 - breaking (to illustrate when it breaks)\n",
        "x1 = np.array([[3], [5], [7]])\n",
        "y1 = np.array([5], [7], [9])\n",
        "np.vstack((x1,y1))"
      ]
    },
    {
      "cell_type": "markdown",
      "metadata": {
        "id": "1XVOIp7kGR9m"
      },
      "source": [
        "Explanation about example (why it breaks and how to fix it)"
      ]
    },
    {
      "cell_type": "code",
      "execution_count": 60,
      "metadata": {},
      "outputs": [
        {
          "data": {
            "text/plain": [
              "array([[3],\n",
              "       [5],\n",
              "       [7],\n",
              "       [5],\n",
              "       [7],\n",
              "       [9]])"
            ]
          },
          "execution_count": 60,
          "metadata": {},
          "output_type": "execute_result"
        }
      ],
      "source": [
        "x1 = np.array([[3], [5], [7]])\n",
        "y1 = np.array([[5], [7], [9]])\n",
        "np.vstack((x1,y1))"
      ]
    },
    {
      "cell_type": "markdown",
      "metadata": {
        "id": "Va-gXokWGR9m"
      },
      "source": [
        "Some closing comments about when to use this function."
      ]
    },
    {
      "cell_type": "code",
      "execution_count": 1,
      "metadata": {},
      "outputs": [],
      "source": [
        "import numpy as np\n",
        "import pandas as pd\n",
        "\n"
      ]
    },
    {
      "cell_type": "code",
      "execution_count": 2,
      "metadata": {},
      "outputs": [],
      "source": [
        "#create DataFrame with some NaN values\n",
        "df = pd.DataFrame({'rating': [np.nan, 85, np.nan, 88, 94, 90, 76, 75, 87, 86],\n",
        "                   'points': [25, np.nan, 14, 16, 27, 20, 12, 15, 14, 19],\n",
        "                   'assists': [5, 7, 7, np.nan, 5, 7, 6, 9, 9, 5],\n",
        "                   'rebounds': [11, 8, 10, 6, 6, 9, 6, 10, 10, 7]})\n"
      ]
    },
    {
      "cell_type": "code",
      "execution_count": 3,
      "metadata": {},
      "outputs": [
        {
          "data": {
            "text/html": [
              "<div>\n",
              "<style scoped>\n",
              "    .dataframe tbody tr th:only-of-type {\n",
              "        vertical-align: middle;\n",
              "    }\n",
              "\n",
              "    .dataframe tbody tr th {\n",
              "        vertical-align: top;\n",
              "    }\n",
              "\n",
              "    .dataframe thead th {\n",
              "        text-align: right;\n",
              "    }\n",
              "</style>\n",
              "<table border=\"1\" class=\"dataframe\">\n",
              "  <thead>\n",
              "    <tr style=\"text-align: right;\">\n",
              "      <th></th>\n",
              "      <th>rating</th>\n",
              "      <th>points</th>\n",
              "      <th>assists</th>\n",
              "      <th>rebounds</th>\n",
              "    </tr>\n",
              "  </thead>\n",
              "  <tbody>\n",
              "    <tr>\n",
              "      <th>0</th>\n",
              "      <td>NaN</td>\n",
              "      <td>25.0</td>\n",
              "      <td>5.0</td>\n",
              "      <td>11</td>\n",
              "    </tr>\n",
              "    <tr>\n",
              "      <th>1</th>\n",
              "      <td>85.0</td>\n",
              "      <td>NaN</td>\n",
              "      <td>7.0</td>\n",
              "      <td>8</td>\n",
              "    </tr>\n",
              "    <tr>\n",
              "      <th>2</th>\n",
              "      <td>NaN</td>\n",
              "      <td>14.0</td>\n",
              "      <td>7.0</td>\n",
              "      <td>10</td>\n",
              "    </tr>\n",
              "    <tr>\n",
              "      <th>3</th>\n",
              "      <td>88.0</td>\n",
              "      <td>16.0</td>\n",
              "      <td>NaN</td>\n",
              "      <td>6</td>\n",
              "    </tr>\n",
              "    <tr>\n",
              "      <th>4</th>\n",
              "      <td>94.0</td>\n",
              "      <td>27.0</td>\n",
              "      <td>5.0</td>\n",
              "      <td>6</td>\n",
              "    </tr>\n",
              "    <tr>\n",
              "      <th>5</th>\n",
              "      <td>90.0</td>\n",
              "      <td>20.0</td>\n",
              "      <td>7.0</td>\n",
              "      <td>9</td>\n",
              "    </tr>\n",
              "    <tr>\n",
              "      <th>6</th>\n",
              "      <td>76.0</td>\n",
              "      <td>12.0</td>\n",
              "      <td>6.0</td>\n",
              "      <td>6</td>\n",
              "    </tr>\n",
              "    <tr>\n",
              "      <th>7</th>\n",
              "      <td>75.0</td>\n",
              "      <td>15.0</td>\n",
              "      <td>9.0</td>\n",
              "      <td>10</td>\n",
              "    </tr>\n",
              "    <tr>\n",
              "      <th>8</th>\n",
              "      <td>87.0</td>\n",
              "      <td>14.0</td>\n",
              "      <td>9.0</td>\n",
              "      <td>10</td>\n",
              "    </tr>\n",
              "    <tr>\n",
              "      <th>9</th>\n",
              "      <td>86.0</td>\n",
              "      <td>19.0</td>\n",
              "      <td>5.0</td>\n",
              "      <td>7</td>\n",
              "    </tr>\n",
              "  </tbody>\n",
              "</table>\n",
              "</div>"
            ],
            "text/plain": [
              "   rating  points  assists  rebounds\n",
              "0     NaN    25.0      5.0        11\n",
              "1    85.0     NaN      7.0         8\n",
              "2     NaN    14.0      7.0        10\n",
              "3    88.0    16.0      NaN         6\n",
              "4    94.0    27.0      5.0         6\n",
              "5    90.0    20.0      7.0         9\n",
              "6    76.0    12.0      6.0         6\n",
              "7    75.0    15.0      9.0        10\n",
              "8    87.0    14.0      9.0        10\n",
              "9    86.0    19.0      5.0         7"
            ]
          },
          "execution_count": 3,
          "metadata": {},
          "output_type": "execute_result"
        }
      ],
      "source": [
        "df"
      ]
    },
    {
      "cell_type": "code",
      "execution_count": 8,
      "metadata": {},
      "outputs": [
        {
          "data": {
            "text/plain": [
              "86.5"
            ]
          },
          "execution_count": 8,
          "metadata": {},
          "output_type": "execute_result"
        }
      ],
      "source": [
        "df['rating'].median()"
      ]
    },
    {
      "cell_type": "code",
      "execution_count": 9,
      "metadata": {},
      "outputs": [],
      "source": [
        "df['rating'] = df['rating'].fillna(df['rating'].median())\n"
      ]
    },
    {
      "cell_type": "code",
      "execution_count": 10,
      "metadata": {},
      "outputs": [
        {
          "data": {
            "text/html": [
              "<div>\n",
              "<style scoped>\n",
              "    .dataframe tbody tr th:only-of-type {\n",
              "        vertical-align: middle;\n",
              "    }\n",
              "\n",
              "    .dataframe tbody tr th {\n",
              "        vertical-align: top;\n",
              "    }\n",
              "\n",
              "    .dataframe thead th {\n",
              "        text-align: right;\n",
              "    }\n",
              "</style>\n",
              "<table border=\"1\" class=\"dataframe\">\n",
              "  <thead>\n",
              "    <tr style=\"text-align: right;\">\n",
              "      <th></th>\n",
              "      <th>rating</th>\n",
              "      <th>points</th>\n",
              "      <th>assists</th>\n",
              "      <th>rebounds</th>\n",
              "    </tr>\n",
              "  </thead>\n",
              "  <tbody>\n",
              "    <tr>\n",
              "      <th>0</th>\n",
              "      <td>86.5</td>\n",
              "      <td>25.0</td>\n",
              "      <td>5.0</td>\n",
              "      <td>11</td>\n",
              "    </tr>\n",
              "    <tr>\n",
              "      <th>1</th>\n",
              "      <td>85.0</td>\n",
              "      <td>NaN</td>\n",
              "      <td>7.0</td>\n",
              "      <td>8</td>\n",
              "    </tr>\n",
              "    <tr>\n",
              "      <th>2</th>\n",
              "      <td>86.5</td>\n",
              "      <td>14.0</td>\n",
              "      <td>7.0</td>\n",
              "      <td>10</td>\n",
              "    </tr>\n",
              "    <tr>\n",
              "      <th>3</th>\n",
              "      <td>88.0</td>\n",
              "      <td>16.0</td>\n",
              "      <td>NaN</td>\n",
              "      <td>6</td>\n",
              "    </tr>\n",
              "    <tr>\n",
              "      <th>4</th>\n",
              "      <td>94.0</td>\n",
              "      <td>27.0</td>\n",
              "      <td>5.0</td>\n",
              "      <td>6</td>\n",
              "    </tr>\n",
              "    <tr>\n",
              "      <th>5</th>\n",
              "      <td>90.0</td>\n",
              "      <td>20.0</td>\n",
              "      <td>7.0</td>\n",
              "      <td>9</td>\n",
              "    </tr>\n",
              "    <tr>\n",
              "      <th>6</th>\n",
              "      <td>76.0</td>\n",
              "      <td>12.0</td>\n",
              "      <td>6.0</td>\n",
              "      <td>6</td>\n",
              "    </tr>\n",
              "    <tr>\n",
              "      <th>7</th>\n",
              "      <td>75.0</td>\n",
              "      <td>15.0</td>\n",
              "      <td>9.0</td>\n",
              "      <td>10</td>\n",
              "    </tr>\n",
              "    <tr>\n",
              "      <th>8</th>\n",
              "      <td>87.0</td>\n",
              "      <td>14.0</td>\n",
              "      <td>9.0</td>\n",
              "      <td>10</td>\n",
              "    </tr>\n",
              "    <tr>\n",
              "      <th>9</th>\n",
              "      <td>86.0</td>\n",
              "      <td>19.0</td>\n",
              "      <td>5.0</td>\n",
              "      <td>7</td>\n",
              "    </tr>\n",
              "  </tbody>\n",
              "</table>\n",
              "</div>"
            ],
            "text/plain": [
              "   rating  points  assists  rebounds\n",
              "0    86.5    25.0      5.0        11\n",
              "1    85.0     NaN      7.0         8\n",
              "2    86.5    14.0      7.0        10\n",
              "3    88.0    16.0      NaN         6\n",
              "4    94.0    27.0      5.0         6\n",
              "5    90.0    20.0      7.0         9\n",
              "6    76.0    12.0      6.0         6\n",
              "7    75.0    15.0      9.0        10\n",
              "8    87.0    14.0      9.0        10\n",
              "9    86.0    19.0      5.0         7"
            ]
          },
          "execution_count": 10,
          "metadata": {},
          "output_type": "execute_result"
        }
      ],
      "source": [
        "df"
      ]
    },
    {
      "cell_type": "code",
      "execution_count": null,
      "metadata": {},
      "outputs": [],
      "source": []
    }
  ],
  "metadata": {
    "colab": {
      "name": "numpy-array-operations.ipynb",
      "provenance": []
    },
    "kernelspec": {
      "display_name": "Python 3",
      "language": "python",
      "name": "python3"
    },
    "language_info": {
      "codemirror_mode": {
        "name": "ipython",
        "version": 3
      },
      "file_extension": ".py",
      "mimetype": "text/x-python",
      "name": "python",
      "nbconvert_exporter": "python",
      "pygments_lexer": "ipython3",
      "version": "3.10.4"
    }
  },
  "nbformat": 4,
  "nbformat_minor": 0
}
